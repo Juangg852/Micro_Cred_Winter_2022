{
  "nbformat": 4,
  "nbformat_minor": 0,
  "metadata": {
    "colab": {
      "name": "Class work.ipynb",
      "provenance": [],
      "authorship_tag": "ABX9TyP/nhwbsQXwNrVDvX52kfSY",
      "include_colab_link": true
    },
    "kernelspec": {
      "name": "python3",
      "display_name": "Python 3"
    },
    "language_info": {
      "name": "python"
    }
  },
  "cells": [
    {
      "cell_type": "markdown",
      "metadata": {
        "id": "view-in-github",
        "colab_type": "text"
      },
      "source": [
        "<a href=\"https://colab.research.google.com/github/Juangg852/Micro_Cred_Winter_2022/blob/main/Python/Class_work.ipynb\" target=\"_parent\"><img src=\"https://colab.research.google.com/assets/colab-badge.svg\" alt=\"Open In Colab\"/></a>"
      ]
    },
    {
      "cell_type": "code",
      "execution_count": 3,
      "metadata": {
        "colab": {
          "base_uri": "https://localhost:8080/"
        },
        "id": "4NU1SC1l2_L0",
        "outputId": "fb3648f9-8832-4ca4-c900-a133eb479d10"
      },
      "outputs": [
        {
          "output_type": "stream",
          "name": "stdout",
          "text": [
            "pizza, is one fav foods\n",
            "apple, is one fav foods\n",
            "mango, is one fav foods\n",
            "banana, is one fav foods\n",
            "empanada, is one fav foods\n",
            "I like food\n"
          ]
        }
      ],
      "source": [
        "Fav_Foods = ['pizza','apple', 'mango','banana','empanada']\n",
        "for x in Fav_Foods:\n",
        "  print(x+\", is one fav foods\")\n",
        "print(\"I like food\")"
      ]
    },
    {
      "cell_type": "code",
      "source": [
        "nums = list(range(0,11, 2))\n",
        "print(nums)\n",
        "print(min(nums))\n",
        "print(max(nums))\n",
        "sum(nums)"
      ],
      "metadata": {
        "colab": {
          "base_uri": "https://localhost:8080/"
        },
        "id": "EKOtuTtM7MCi",
        "outputId": "628a696f-8d4c-4125-dfa1-dbeec8dec7fd"
      },
      "execution_count": 17,
      "outputs": [
        {
          "output_type": "stream",
          "name": "stdout",
          "text": [
            "[0, 2, 4, 6, 8, 10]\n",
            "0\n",
            "10\n"
          ]
        },
        {
          "output_type": "execute_result",
          "data": {
            "text/plain": [
              "30"
            ]
          },
          "metadata": {},
          "execution_count": 17
        }
      ]
    },
    {
      "cell_type": "code",
      "source": [
        "odd_nums = list(range(1,20, 2))\n",
        "print(odd_nums)\n",
        "even_nums = list(range(2,21, 2))\n",
        "print(even_nums)"
      ],
      "metadata": {
        "colab": {
          "base_uri": "https://localhost:8080/"
        },
        "id": "xF1mdEhTDDtR",
        "outputId": "d05f7b52-f8f6-407d-9fdb-a7615414d086"
      },
      "execution_count": 23,
      "outputs": [
        {
          "output_type": "stream",
          "name": "stdout",
          "text": [
            "[1, 3, 5, 7, 9, 11, 13, 15, 17, 19]\n",
            "[2, 4, 6, 8, 10, 12, 14, 16, 18, 20]\n"
          ]
        }
      ]
    },
    {
      "cell_type": "code",
      "source": [
        "#testing equality and inequality\n",
        "things = ['lol','XD','lmao',]\n",
        "adding = 'OMG'\n",
        "for x in things:\n",
        "  if x == 'XD':\n",
        "    print('true')\n",
        "  else:\n",
        "    print(\"its not there there\")\n",
        "if adding != 'lol':\n",
        "  print('you need it')\n",
        "  \n",
        "  \n"
      ],
      "metadata": {
        "colab": {
          "base_uri": "https://localhost:8080/"
        },
        "id": "MBY1TDdzNvxC",
        "outputId": "07b5564d-4787-43c9-b7c0-5ebde325dc83"
      },
      "execution_count": 37,
      "outputs": [
        {
          "output_type": "stream",
          "name": "stdout",
          "text": [
            "its not there there\n",
            "true\n",
            "its not there there\n",
            "you need it\n"
          ]
        }
      ]
    },
    {
      "cell_type": "code",
      "source": [
        "#numericanl test\n",
        "x=10\n",
        "if x > 5:\n",
        "  print(\"True\")\n",
        "if x < 20:\n",
        "  print('True too')\n",
        "if x != 12:\n",
        "  print(\"also true\")\n",
        "if x >= 8:\n",
        "  print(\"hi\")"
      ],
      "metadata": {
        "colab": {
          "base_uri": "https://localhost:8080/"
        },
        "id": "a7M3bB5WPrEN",
        "outputId": "c7bdd5a3-a1c0-4386-bc21-ca97c84af2cc"
      },
      "execution_count": 41,
      "outputs": [
        {
          "output_type": "stream",
          "name": "stdout",
          "text": [
            "True\n",
            "True too\n",
            "also true\n",
            "hi\n"
          ]
        }
      ]
    },
    {
      "cell_type": "code",
      "source": [
        "#usiing \"and\" and \"or\"\n",
        "x = 10\n",
        "y = 10\n",
        "z = 5\n",
        "if x == 10 and y == 10:\n",
        "  print(\"truee\")\n",
        "if x == 30 or z == 5:\n",
        "  print(\"yes!\")\n"
      ],
      "metadata": {
        "colab": {
          "base_uri": "https://localhost:8080/"
        },
        "id": "vzllcx_IRnj9",
        "outputId": "302a621b-a8ae-4661-9857-41eb2b780ae1"
      },
      "execution_count": 48,
      "outputs": [
        {
          "output_type": "stream",
          "name": "stdout",
          "text": [
            "truee\n",
            "yes!\n"
          ]
        }
      ]
    },
    {
      "cell_type": "code",
      "source": [
        "#testing \"in\" and \"not in\"\n",
        "names = ['lol','lmao','xD']\n",
        "if 'lol' in names:\n",
        "  print(\"trueee\")\n",
        "if 'LOL' not in names:\n",
        "  print('not in here')"
      ],
      "metadata": {
        "colab": {
          "base_uri": "https://localhost:8080/"
        },
        "id": "p3dCIuGuSujN",
        "outputId": "a36d07d2-d882-4822-87cf-654ebc33c8bc"
      },
      "execution_count": 50,
      "outputs": [
        {
          "output_type": "stream",
          "name": "stdout",
          "text": [
            "trueee\n",
            "not in here\n"
          ]
        }
      ]
    },
    {
      "cell_type": "code",
      "source": [
        "toppings = ['1','2']\n",
        "for x in toppings:\n",
        "  if x == '1':\n",
        "    print('lol')\n",
        "  else:\n",
        "      print('lamo')"
      ],
      "metadata": {
        "colab": {
          "base_uri": "https://localhost:8080/"
        },
        "id": "VGbKVOv4YAHM",
        "outputId": "d94228b7-d81e-46a1-d2d6-d247ee3a140e"
      },
      "execution_count": 56,
      "outputs": [
        {
          "output_type": "stream",
          "name": "stdout",
          "text": [
            "lol\n",
            "lamo\n"
          ]
        }
      ]
    }
  ]
}