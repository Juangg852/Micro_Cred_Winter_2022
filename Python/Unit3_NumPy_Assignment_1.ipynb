{
  "nbformat": 4,
  "nbformat_minor": 0,
  "metadata": {
    "colab": {
      "name": "Unit3_NumPy_Assignment_1.ipynb",
      "provenance": [],
      "collapsed_sections": [],
      "toc_visible": true,
      "include_colab_link": true
    },
    "kernelspec": {
      "name": "python3",
      "display_name": "Python 3"
    }
  },
  "cells": [
    {
      "cell_type": "markdown",
      "metadata": {
        "id": "view-in-github",
        "colab_type": "text"
      },
      "source": [
        "<a href=\"https://colab.research.google.com/github/Juangg852/Micro_Cred_Winter_2022/blob/main/Python/Unit3_NumPy_Assignment_1.ipynb\" target=\"_parent\"><img src=\"https://colab.research.google.com/assets/colab-badge.svg\" alt=\"Open In Colab\"/></a>"
      ]
    },
    {
      "cell_type": "markdown",
      "metadata": {
        "id": "Vgs8Kp4TidFQ"
      },
      "source": [
        "# Unit 3 - Advanced Python - NumPy - Assingment #1  "
      ]
    },
    {
      "cell_type": "markdown",
      "metadata": {
        "id": "_Hq7Ny79iwgD"
      },
      "source": [
        "## 1. Environment Set up"
      ]
    },
    {
      "cell_type": "code",
      "metadata": {
        "id": "lotvpVpvlKsR",
        "colab": {
          "base_uri": "https://localhost:8080/"
        },
        "outputId": "ba13a877-387b-46a0-9607-b098ccc0f159"
      },
      "source": [
        "#Dataset from summer Olympic London, year 2012\n",
        "import numpy as np\n",
        "np_olympic_country = np.array(['GBR','China','RUS','US','KOR','JPN','GER'])\n",
        "np_olympic_country_Gold = np.array([29,38,24,46,13,7,11])\n",
        "np_olympic_country_Silver = np.array([17,28,25,28,8,14,11])\n",
        "np_olympic_country_Bronze = np.array([19,22,32,29,7,17,14])\n",
        "\n",
        "import numpy as np\n",
        "result = np.where(np_olympic_country_Gold == np.amax(np_olympic_country_Gold))\n",
        "result1 = np.where(np_olympic_country_Gold == np.amin(np_olympic_country_Gold))\n",
        "print(result1,result)\n",
        "print(np_olympic_country[result])"
      ],
      "execution_count": 4,
      "outputs": [
        {
          "output_type": "stream",
          "name": "stdout",
          "text": [
            "(array([5]),) (array([3]),)\n",
            "['US']\n"
          ]
        }
      ]
    },
    {
      "cell_type": "markdown",
      "metadata": {
        "id": "io_27RSlizno"
      },
      "source": [
        "## 2.\tFind country with maximum and mid gold gold"
      ]
    },
    {
      "cell_type": "code",
      "source": [
        "print(np_olympic_country[result],\"with {} gold medals\".format(np.amax(np_olympic_country_Gold))) \n",
        "print(np_olympic_country[result1],\"with {} gold medals\".format(np.amin(np_olympic_country_Gold)))"
      ],
      "metadata": {
        "colab": {
          "base_uri": "https://localhost:8080/"
        },
        "id": "CQPKj6sry_wn",
        "outputId": "7a674aa4-adba-4ebe-bb08-bb27fe697b99"
      },
      "execution_count": 24,
      "outputs": [
        {
          "output_type": "stream",
          "name": "stdout",
          "text": [
            "['US'] with 46 gold medals\n",
            "['JPN'] with 7 gold medals\n"
          ]
        }
      ]
    },
    {
      "cell_type": "markdown",
      "metadata": {
        "id": "DAW8m8IQjRyR"
      },
      "source": [
        "## 3.\tFind countries with more than 20 gold medals"
      ]
    },
    {
      "cell_type": "code",
      "metadata": {
        "id": "guULMEhrjYtT",
        "colab": {
          "base_uri": "https://localhost:8080/"
        },
        "outputId": "74566ddb-df92-4642-90d4-c301d0c88ada"
      },
      "source": [
        "result2 = np.where(np_olympic_country_Gold >= 20)\n",
        "print(result2)\n",
        "print(\"The countries with 20 or more medals are {} with {} respectively\".format(np_olympic_country[result2],np_olympic_country_Gold[result2]))"
      ],
      "execution_count": 17,
      "outputs": [
        {
          "output_type": "stream",
          "name": "stdout",
          "text": [
            "(array([0, 1, 2, 3]),)\n",
            "The countries with 20 or more medals are ['GBR' 'China' 'RUS' 'US'] with [29 38 24 46] respectively\n"
          ]
        }
      ]
    },
    {
      "cell_type": "markdown",
      "source": [
        ""
      ],
      "metadata": {
        "id": "iHaRIrt8llcd"
      }
    }
  ]
}