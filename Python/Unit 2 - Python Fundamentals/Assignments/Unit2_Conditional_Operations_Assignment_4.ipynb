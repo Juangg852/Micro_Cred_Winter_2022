{
  "nbformat": 4,
  "nbformat_minor": 0,
  "metadata": {
    "colab": {
      "name": "Unit2_Conditional_Operations_Assignment_4.ipynb",
      "provenance": [],
      "collapsed_sections": [],
      "toc_visible": true,
      "include_colab_link": true
    },
    "kernelspec": {
      "name": "python3",
      "display_name": "Python 3"
    }
  },
  "cells": [
    {
      "cell_type": "markdown",
      "metadata": {
        "id": "view-in-github",
        "colab_type": "text"
      },
      "source": [
        "<a href=\"https://colab.research.google.com/github/Juangg852/Micro_Cred_Winter_2022/blob/main/Python/Unit%202%20-%20Python%20Fundamentals/Assignments/Unit2_Conditional_Operations_Assignment_4.ipynb\" target=\"_parent\"><img src=\"https://colab.research.google.com/assets/colab-badge.svg\" alt=\"Open In Colab\"/></a>"
      ]
    },
    {
      "cell_type": "markdown",
      "metadata": {
        "id": "Vgs8Kp4TidFQ"
      },
      "source": [
        "# Intrdouction to Python - Conditional Operations Assignment #4\n",
        "\n",
        "## If-elif-else Statements "
      ]
    },
    {
      "cell_type": "markdown",
      "metadata": {
        "id": "_Hq7Ny79iwgD"
      },
      "source": [
        "## 1.\tMake a list of 5 or more usernames, including an admin account.  Imagine you are writing code that will welcome people to your application on login. Loop through the list and print your greeting.\n",
        "\n",
        "a.\tIf the admin account logs in, give them a special greeting.  They’re the admin, after all!\n",
        "\n",
        "b.\tOther users can get the generic greeting\n",
        "\n"
      ]
    },
    {
      "cell_type": "code",
      "metadata": {
        "id": "lotvpVpvlKsR",
        "colab": {
          "base_uri": "https://localhost:8080/"
        },
        "outputId": "7a6f2c89-4343-4c67-e241-72933528ea24"
      },
      "source": [
        "Greetings_1 = [\"Welcome Back\",\"WELCOME BACK\"]\n",
        "User_Names = [\"juan123\",\"juang12345\",\"mexicanpower852\",\"juan852\",\"juan8523\",\"Admin123\"]\n",
        "for i in User_Names:\n",
        "  if i != \"Admin123\" :\n",
        "    print(Greetings_1[0],i)\n",
        "  else:\n",
        "    print(Greetings_1[1],i)"
      ],
      "execution_count": 20,
      "outputs": [
        {
          "output_type": "stream",
          "name": "stdout",
          "text": [
            "Welcome Back juan123\n",
            "Welcome Back juang12345\n",
            "Welcome Back mexicanpower852\n",
            "Welcome Back juan852\n",
            "Welcome Back juan8523\n",
            "WELCOME BACK Admin123\n"
          ]
        }
      ]
    },
    {
      "cell_type": "markdown",
      "source": [
        "## 2.\tStore numbers 1-10 in a list\n",
        "\n",
        "a.\tLoop through the list\n",
        "\n",
        "b.\tUse an if-elif-else chain inside your loop to print the ordinal ending for each number – for example – 1st, 2nd, 3rd … etc."
      ],
      "metadata": {
        "id": "R79VMg9CqBP0"
      }
    },
    {
      "cell_type": "code",
      "metadata": {
        "id": "vs8ppR-wlSKL",
        "colab": {
          "base_uri": "https://localhost:8080/"
        },
        "outputId": "6ee2f55d-4e6b-4cdd-b74c-d39ab79f2674"
      },
      "source": [
        "nums = list(range(1,11))\n",
        "lol = [\"st\",\"nd\",\"rd\",\"th\"]\n",
        "for i in nums:\n",
        "  if i == 1:\n",
        "    print(i,lol[0])\n",
        "  elif i == 2:\n",
        "    print(i,lol[1])\n",
        "  elif i == 3:\n",
        "    print(i,lol[2])\n",
        "  else:\n",
        "    print(i,lol[3])"
      ],
      "execution_count": 38,
      "outputs": [
        {
          "output_type": "stream",
          "name": "stdout",
          "text": [
            "1 st\n",
            "2 nd\n",
            "3 rd\n",
            "4 th\n",
            "5 th\n",
            "6 th\n",
            "7 th\n",
            "8 th\n",
            "9 th\n",
            "10 th\n"
          ]
        }
      ]
    }
  ]
}