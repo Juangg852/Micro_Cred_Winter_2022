{
  "nbformat": 4,
  "nbformat_minor": 0,
  "metadata": {
    "colab": {
      "name": "Unit2_Dictionary_Assignment_5.ipynb",
      "provenance": [],
      "collapsed_sections": [],
      "toc_visible": true,
      "include_colab_link": true
    },
    "kernelspec": {
      "name": "python3",
      "display_name": "Python 3"
    }
  },
  "cells": [
    {
      "cell_type": "markdown",
      "metadata": {
        "id": "view-in-github",
        "colab_type": "text"
      },
      "source": [
        "<a href=\"https://colab.research.google.com/github/Juangg852/Micro_Cred_Winter_2022/blob/main/Python/Unit2_Dictionary_Assignment_5.ipynb\" target=\"_parent\"><img src=\"https://colab.research.google.com/assets/colab-badge.svg\" alt=\"Open In Colab\"/></a>"
      ]
    },
    {
      "cell_type": "markdown",
      "metadata": {
        "id": "Vgs8Kp4TidFQ"
      },
      "source": [
        "# Intrdouction to Python - Dictionary - Assignment #5 "
      ]
    },
    {
      "cell_type": "markdown",
      "metadata": {
        "id": "_Hq7Ny79iwgD"
      },
      "source": [
        "## 1.\tCreate a simple dictionary that stores 2 variables, for example: first and last name."
      ]
    },
    {
      "cell_type": "code",
      "metadata": {
        "id": "lotvpVpvlKsR",
        "outputId": "3771c909-cc8b-4dda-a6dd-cf33f157d254",
        "colab": {
          "base_uri": "https://localhost:8080/"
        }
      },
      "source": [
        "Simple_Dictionary = {\"First Name\": \"Juan\", \"Last Name\": \"Gonzalez\"}\n",
        "Simple_Dictionary"
      ],
      "execution_count": 1,
      "outputs": [
        {
          "output_type": "execute_result",
          "data": {
            "text/plain": [
              "{'First Name': 'Juan', 'Last Name': 'Gonzalez'}"
            ]
          },
          "metadata": {},
          "execution_count": 1
        }
      ]
    },
    {
      "cell_type": "markdown",
      "metadata": {
        "id": "io_27RSlizno"
      },
      "source": [
        "## 2.\tPrint out those variables stored in your previous dictionary. "
      ]
    },
    {
      "cell_type": "code",
      "metadata": {
        "id": "Dh1o5cAylSHB",
        "outputId": "34f3a1c7-72e2-494f-b8de-ffbb933219da",
        "colab": {
          "base_uri": "https://localhost:8080/"
        }
      },
      "source": [
        "Simple_Dictionary"
      ],
      "execution_count": 2,
      "outputs": [
        {
          "output_type": "execute_result",
          "data": {
            "text/plain": [
              "{'First Name': 'Juan', 'Last Name': 'Gonzalez'}"
            ]
          },
          "metadata": {},
          "execution_count": 2
        }
      ]
    },
    {
      "cell_type": "markdown",
      "metadata": {
        "id": "DAW8m8IQjRyR"
      },
      "source": [
        "## 3.\tAdd a message to those variables on printing: for example: “Hello, firstname lastname!”"
      ]
    },
    {
      "cell_type": "code",
      "metadata": {
        "id": "guULMEhrjYtT",
        "outputId": "f7653f2d-e574-4f7a-e4ba-816edd27cae3",
        "colab": {
          "base_uri": "https://localhost:8080/"
        }
      },
      "source": [
        "print(\"Hello \"+Simple_Dictionary[\"First Name\"], Simple_Dictionary[\"Last Name\"])"
      ],
      "execution_count": 6,
      "outputs": [
        {
          "output_type": "stream",
          "name": "stdout",
          "text": [
            "Hello Juan Gonzalez\n"
          ]
        }
      ]
    },
    {
      "cell_type": "markdown",
      "metadata": {
        "id": "dpa_YOt4jXyo"
      },
      "source": [
        "## 4.\tCreate a dictionary that holds 2 key: value pairs:\n",
        "\n",
        "a.\tLook through your dictionary and print each pair,\n"
      ]
    },
    {
      "cell_type": "code",
      "metadata": {
        "id": "pltxfnh3iJLW",
        "outputId": "b8550aa4-5834-4ea4-d122-9e1abb4feae9",
        "colab": {
          "base_uri": "https://localhost:8080/"
        }
      },
      "source": [
        "List_1 = {\"Fav Fruit\": \"Mangos\", \"Fav Food\": \"Pizza\"}\n",
        "for i in List_1:\n",
        "  print(i+\":\",List_1[i])"
      ],
      "execution_count": 9,
      "outputs": [
        {
          "output_type": "stream",
          "name": "stdout",
          "text": [
            "Fav Fruit: Mangos\n",
            "Fav Food: Pizza\n"
          ]
        }
      ]
    },
    {
      "cell_type": "markdown",
      "source": [
        "5. **Create a nested dictionary containing three dictionaries** – these dictionaries could be anything (favorite pets, travel locations, etc.) a. Loop through the dictionaries and print a message for each.\n"
      ],
      "metadata": {
        "id": "yFfE4TLNAGSn"
      }
    },
    {
      "cell_type": "code",
      "source": [
        "List_2 = {\"Places to visit\":['Italy','Spain','Soul'],\"Fav Games\":[\"League of legends\",\"minimetro\",\"Overwatch\",],\"Fav Apps\": [\"youtube\",\"Gmail\",\"Discord\"]}\n",
        "List_3 = [\"The places I want to visit are: \", \"My favorite games are:\",\"My favorite apps are:\"]\n",
        "print(List_3[1])\n",
        "for i in List_2:\n",
        "  print(List_3[0],List_2[i])\n",
        "\n",
        "    \n"
      ],
      "metadata": {
        "id": "ar6yAJaDDAgC",
        "outputId": "6f2e3dbc-5842-42fd-b9ec-ef734953a6fa",
        "colab": {
          "base_uri": "https://localhost:8080/"
        }
      },
      "execution_count": 66,
      "outputs": [
        {
          "output_type": "stream",
          "name": "stdout",
          "text": [
            "My favorite games are:\n",
            "The places I want to visit are:  ['Italy', 'Spain', 'Soul']\n",
            "The places I want to visit are:  ['League of legends', 'minimetro', 'Overwatch']\n",
            "The places I want to visit are:  ['youtube', 'Gmail', 'Discord']\n"
          ]
        }
      ]
    }
  ]
}